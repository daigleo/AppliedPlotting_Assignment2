{
 "cells": [
  {
   "cell_type": "markdown",
   "metadata": {},
   "source": [
    "# Assignment 2\n",
    "\n",
    "Before working on this assignment please read these instructions fully. In the submission area, you will notice that you can click the link to **Preview the Grading** for each step of the assignment. This is the criteria that will be used for peer grading. Please familiarize yourself with the criteria before beginning the assignment.\n",
    "\n",
    "An NOAA dataset has been stored in the file `data/C2A2_data/BinnedCsvs_d400/fb441e62df2d58994928907a91895ec62c2c42e6cd075c2700843b89.csv`. The data for this assignment comes from a subset of The National Centers for Environmental Information (NCEI) [Daily Global Historical Climatology Network](https://www1.ncdc.noaa.gov/pub/data/ghcn/daily/readme.txt) (GHCN-Daily). The GHCN-Daily is comprised of daily climate records from thousands of land surface stations across the globe.\n",
    "\n",
    "Each row in the assignment datafile corresponds to a single observation.\n",
    "\n",
    "The following variables are provided to you:\n",
    "\n",
    "* **id** : station identification code\n",
    "* **date** : date in YYYY-MM-DD format (e.g. 2012-01-24 = January 24, 2012)\n",
    "* **element** : indicator of element type\n",
    "    * TMAX : Maximum temperature (tenths of degrees C)\n",
    "    * TMIN : Minimum temperature (tenths of degrees C)\n",
    "* **value** : data value for element (tenths of degrees C)\n",
    "\n",
    "For this assignment, you must:\n",
    "\n",
    "1. Read the documentation and familiarize yourself with the dataset, then write some python code which returns a line graph of the record high and record low temperatures by day of the year over the period 2005-2014. The area between the record high and record low temperatures for each day should be shaded.\n",
    "2. Overlay a scatter of the 2015 data for any points (highs and lows) for which the ten year record (2005-2014) record high or record low was broken in 2015.\n",
    "3. Watch out for leap days (i.e. February 29th), it is reasonable to remove these points from the dataset for the purpose of this visualization.\n",
    "4. Make the visual nice! Leverage principles from the first module in this course when developing your solution. Consider issues such as legends, labels, and chart junk.\n",
    "\n",
    "The data you have been given is near **Toronto, Ontario, Canada**, and the stations the data comes from are shown on the map below."
   ]
  },
  {
   "cell_type": "code",
   "execution_count": 77,
   "metadata": {},
   "outputs": [],
   "source": [
    "import matplotlib.pyplot as plt\n",
    "import mplleaflet\n",
    "import pandas as pd\n",
    "from tabulate import tabulate\n",
    "\n",
    "def leaflet_plot_stations(binsize, hashid):\n",
    "\n",
    "    df = pd.read_csv('data/C2A2_data/BinSize_d{}.csv'.format(binsize))\n",
    "\n",
    "    station_locations_by_hash = df[df['hash'] == hashid]\n",
    "\n",
    "    lons = station_locations_by_hash['LONGITUDE'].tolist()\n",
    "    lats = station_locations_by_hash['LATITUDE'].tolist()\n",
    "\n",
    "    plt.figure(figsize=(8,8))\n",
    "\n",
    "    plt.scatter(lons, lats, c='r', alpha=0.7, s=200)\n",
    "\n",
    "    return mplleaflet.display()\n",
    "\n",
    "# leaflet_plot_stations(400,'fb441e62df2d58994928907a91895ec62c2c42e6cd075c2700843b89')"
   ]
  },
  {
   "cell_type": "markdown",
   "metadata": {},
   "source": [
    "# Load and clean data\n",
    "This section of code loads the data from the file and formats it. Part of the processing includes finding the minimum and maximum temperatures for a 10-year period, multi-indexing the data series with month and day. The 2015 temperatures are extracted from the data and any temperatures below the minimum or above the maximum for a given day is recorded."
   ]
  },
  {
   "cell_type": "code",
   "execution_count": 81,
   "metadata": {},
   "outputs": [],
   "source": [
    "# Load data\n",
    "binsize = 400\n",
    "hashid = 'fb441e62df2d58994928907a91895ec62c2c42e6cd075c2700843b89'\n",
    "df = pd.read_csv(f'data/C2A2_data/BinnedCsvs_d{binsize}/{hashid}.csv')\n",
    "\n",
    "# dict mapping month numbers to month abbreviations\n",
    "month_abb = {1:'Jan', 2:'Feb', 3:'Mar', 4:'Apr', 5:'May', 6:'Jun', 7:'Jul',\n",
    "            8:'Aug', 9:'Sep', 10:'Oct', 11:'Nov', 12:'Dec'}\n",
    "\n",
    "# Format date to datetime\n",
    "df['Date'] = pd.to_datetime(df['Date'], yearfirst = True, format='%Y-%m-%d').dt.normalize()\n",
    "\n",
    "# Note that Data_Value are in tenth of a degree\n",
    "# Multiple TMIN/TMAX because of the multiple ID per date\n",
    "# Get the max(TMAX) and min(TMIN) for each date\n",
    "\n",
    "# Extract 2005-2014 time period\n",
    "# Determine the minimum and maximum temperatures for each day of the year\n",
    "# (ignoring leap years). re-index the dataset by month -> day and find the\n",
    "# min/max temperatures for the 10-year period.\n",
    "# Convert the temperatures from tenths of a degree to degree.\n",
    "# Note: dt.strftime('%b') to go from e.g. 01 -> Jan, '%B' for January\n",
    "df_minmax = (df.loc[((df['Date'].dt.year >= 2005) &\n",
    "                    (df['Date'].dt.year < 2015)) &\n",
    "                    ~((df['Date'].dt.month == 2) & (df['Date'].dt.day == 29))] # Drop any leap year\n",
    "             .pivot_table(index=[df['Date'].dt.month,df['Date'].dt.day],\n",
    "                          columns='Element', values='Data_Value', aggfunc=(min, max)))\n",
    "df_minmax = df_minmax.loc[:,[('max','TMAX'), ('min','TMIN')]]\n",
    "df_minmax.columns = df_minmax.columns.droplevel(1) # remove TMIN/TMAX level\n",
    "df_minmax /= 10 # Convert to degrees\n",
    "# Rename index columns and replace month digit by month abbreviation\n",
    "df_minmax.index.names = ['Month','Day']\n",
    "df_minmax.rename(index=month_abb, level='Month', inplace=True)\n",
    "\n",
    "\n",
    "# Extract 2015 data and clean data\n",
    "df_2015 = (df.loc[df['Date'].dt.year == 2015]\n",
    "           .pivot_table(index=[df['Date'].dt.month,df['Date'].dt.day],\n",
    "                        columns='Element', values='Data_Value', aggfunc=(max,min)))\n",
    "df_2015 = df_2015.loc[:,[('max','TMAX'), ('min','TMIN')]]\n",
    "df_2015.columns = df_2015.columns.droplevel(1) # remove TMIN/TMAX level\n",
    "df_2015 /= 10 # Convert to degrees\n",
    "# Rename index columns and replace month digit by month abbreviation\n",
    "df_2015.index.names = ['Month','Day']\n",
    "df_2015.rename(index=month_abb, level='Month', inplace=True)\n",
    "\n",
    "record_mins = df_minmax.loc[df_2015['min'] < df_minmax['min'], 'min']\n",
    "record_maxs = df_minmax.loc[df_2015['max'] > df_minmax['max'], 'max']\n",
    "\n",
    "# Troubleshooting code\n",
    "# print (tabulate(df_2015.head(10), headers = 'keys', tablefmt = 'orgtbl'))\n",
    "# print('#### #### ####')\n",
    "# print (tabulate(df_minmax.head(10), headers = 'keys', tablefmt = 'orgtbl'))"
   ]
  },
  {
   "cell_type": "markdown",
   "metadata": {},
   "source": [
    "# Plot Data\n",
    "The code below plots the daily maximum and minimum temperatures for the 2005--2014 time period. Any days in 2015 where the minimum daily temperature is below the 10-year minimum or the maximum daily temperature is above the 10-year maximum is shown as a point."
   ]
  },
  {
   "cell_type": "code",
   "execution_count": null,
   "metadata": {},
   "outputs": [],
   "source": []
  }
 ],
 "metadata": {
  "kernelspec": {
   "display_name": "Python 3",
   "language": "python",
   "name": "python3"
  },
  "language_info": {
   "codemirror_mode": {
    "name": "ipython",
    "version": 3
   },
   "file_extension": ".py",
   "mimetype": "text/x-python",
   "name": "python",
   "nbconvert_exporter": "python",
   "pygments_lexer": "ipython3",
   "version": "3.7.0b4"
  }
 },
 "nbformat": 4,
 "nbformat_minor": 1
}
